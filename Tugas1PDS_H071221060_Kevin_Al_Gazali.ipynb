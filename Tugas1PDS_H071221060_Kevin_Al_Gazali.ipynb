{
  "nbformat": 4,
  "nbformat_minor": 0,
  "metadata": {
    "colab": {
      "provenance": [],
      "authorship_tag": "ABX9TyNRQYm2h6FOx0t/D3lR1okY",
      "include_colab_link": true
    },
    "kernelspec": {
      "name": "python3",
      "display_name": "Python 3"
    },
    "language_info": {
      "name": "python"
    }
  },
  "cells": [
    {
      "cell_type": "markdown",
      "metadata": {
        "id": "view-in-github",
        "colab_type": "text"
      },
      "source": [
        "<a href=\"https://colab.research.google.com/github/kevinalgazali1/TugasPDS/blob/main/Tugas1PDS_H071221060_Kevin_Al_Gazali.ipynb\" target=\"_parent\"><img src=\"https://colab.research.google.com/assets/colab-badge.svg\" alt=\"Open In Colab\"/></a>"
      ]
    },
    {
      "cell_type": "code",
      "execution_count": null,
      "metadata": {
        "id": "r1RDxv-_mm0T",
        "colab": {
          "base_uri": "https://localhost:8080/"
        },
        "outputId": "6de346c0-2bbf-46da-fb07-b9de460e2b01"
      },
      "outputs": [
        {
          "output_type": "stream",
          "name": "stdout",
          "text": [
            "Requirement already satisfied: kaggle in /usr/local/lib/python3.10/dist-packages (1.5.16)\n",
            "Requirement already satisfied: six>=1.10 in /usr/local/lib/python3.10/dist-packages (from kaggle) (1.16.0)\n",
            "Requirement already satisfied: certifi in /usr/local/lib/python3.10/dist-packages (from kaggle) (2023.7.22)\n",
            "Requirement already satisfied: python-dateutil in /usr/local/lib/python3.10/dist-packages (from kaggle) (2.8.2)\n",
            "Requirement already satisfied: requests in /usr/local/lib/python3.10/dist-packages (from kaggle) (2.31.0)\n",
            "Requirement already satisfied: tqdm in /usr/local/lib/python3.10/dist-packages (from kaggle) (4.66.1)\n",
            "Requirement already satisfied: python-slugify in /usr/local/lib/python3.10/dist-packages (from kaggle) (8.0.1)\n",
            "Requirement already satisfied: urllib3 in /usr/local/lib/python3.10/dist-packages (from kaggle) (2.0.4)\n",
            "Requirement already satisfied: bleach in /usr/local/lib/python3.10/dist-packages (from kaggle) (6.0.0)\n",
            "Requirement already satisfied: webencodings in /usr/local/lib/python3.10/dist-packages (from bleach->kaggle) (0.5.1)\n",
            "Requirement already satisfied: text-unidecode>=1.3 in /usr/local/lib/python3.10/dist-packages (from python-slugify->kaggle) (1.3)\n",
            "Requirement already satisfied: charset-normalizer<4,>=2 in /usr/local/lib/python3.10/dist-packages (from requests->kaggle) (3.2.0)\n",
            "Requirement already satisfied: idna<4,>=2.5 in /usr/local/lib/python3.10/dist-packages (from requests->kaggle) (3.4)\n"
          ]
        }
      ],
      "source": [
        "!pip install kaggle"
      ]
    },
    {
      "cell_type": "code",
      "source": [
        "!mkdir ~/.kaggle"
      ],
      "metadata": {
        "id": "Z6G1dB_TcGfq"
      },
      "execution_count": null,
      "outputs": []
    },
    {
      "cell_type": "code",
      "source": [
        "!cp kaggle.json ~/.kaggle/"
      ],
      "metadata": {
        "id": "89C3bQL8cV-4"
      },
      "execution_count": null,
      "outputs": []
    },
    {
      "cell_type": "code",
      "source": [
        "!chmod 600 ~/.kaggle/kaggle.json"
      ],
      "metadata": {
        "id": "mab9twMecZBV"
      },
      "execution_count": null,
      "outputs": []
    },
    {
      "cell_type": "code",
      "source": [
        "!kaggle datasets list -s Iris"
      ],
      "metadata": {
        "colab": {
          "base_uri": "https://localhost:8080/"
        },
        "id": "SoMOirHSfOfv",
        "outputId": "b7902ef8-e230-4566-f6e6-4bac5e74fdd8"
      },
      "execution_count": null,
      "outputs": [
        {
          "output_type": "stream",
          "name": "stdout",
          "text": [
            "ref                                                        title                                              size  lastUpdated          downloadCount  voteCount  usabilityRating  \n",
            "---------------------------------------------------------  ------------------------------------------------  -----  -------------------  -------------  ---------  ---------------  \n",
            "uciml/iris                                                 Iris Species                                        4KB  2016-09-27 07:38:05         434332       3445  0.7941176        \n",
            "arshid/iris-flower-dataset                                 Iris Flower Dataset                               1010B  2018-03-22 15:18:06         112241        709  0.8235294        \n",
            "himanshunakrani/iris-dataset                               Iris dataset                                      1006B  2022-07-20 18:50:06           7082         56  1.0              \n",
            "vikrishnan/iris-dataset                                    Iris Dataset                                       999B  2017-08-03 16:00:44          18029         79  0.7647059        \n",
            "parulpandey/palmer-archipelago-antarctica-penguin-data     Palmer Archipelago (Antarctica) penguin data       11KB  2020-06-09 10:14:54          53880        439  0.9705882        \n",
            "chuckyin/iris-datasets                                     Iris datasets                                       1KB  2017-03-10 09:35:43           2956         22  0.7352941        \n",
            "jillanisofttech/iris-dataset-uci                           Iris dataset uci                                    1KB  2021-11-06 15:11:47            837         35  1.0              \n",
            "rtatman/iris-dataset-json-version                          Iris Dataset (JSON Version)                         1KB  2018-04-06 20:21:31          14434         77  0.75             \n",
            "therohk/ireland-historical-news                            Irish Times - Waxy-Wany News                       52MB  2021-09-25 10:52:48           3425        161  1.0              \n",
            "vijayaadithyanvg/iris-dataset                              IRIS DATASET                                      1023B  2023-01-14 07:44:53            702         29  1.0              \n",
            "arslanali4343/iris-species                                 Iris Species                                        2KB  2020-07-02 06:09:09            259         77  0.5625           \n",
            "jeffheaton/iris-computer-vision                            Iris Computer Vision                                5MB  2020-11-24 21:23:29           1531         21  0.875            \n",
            "saurabh00007/iriscsv                                       Iris.csv                                            1KB  2017-11-09 07:34:35          80131        153  0.4117647        \n",
            "fleanend/birds-songs-numeric-dataset                       Birds' Songs Numeric Dataset                       25MB  2019-04-01 09:09:46           1841         34  0.9411765        \n",
            "conorrot/irish-weather-hourly-data                         Irish Weather (hourly data)                        67MB  2020-06-29 20:15:18           2797         49  0.8235294        \n",
            "sims22/irisflowerdatasets                                  IRIS-FLOWER-DATASETS                                2KB  2022-12-26 18:33:34            912         21  0.9411765        \n",
            "naureenmohammad/mmu-iris-dataset                           MMU iris dataset                                   30MB  2020-07-25 18:38:33           2648         48  0.625            \n",
            "kamrankausar/iris-data                                     iris_data                                           1KB  2017-11-30 10:26:01           1825         22  0.64705884       \n",
            "ashkhagan/palmer-penguins-datasetalternative-iris-dataset  Palmer Penguins Dataset-Alternative Iris Dataset    3KB  2020-06-30 06:30:43           2163         21  0.8235294        \n",
            "styven/iris-dataset                                        Iris dataset                                        1KB  2017-11-04 14:10:12           1020          8  0.29411766       \n"
          ]
        }
      ]
    },
    {
      "cell_type": "code",
      "source": [
        "!kaggle datasets download uciml/iris --unzip"
      ],
      "metadata": {
        "colab": {
          "base_uri": "https://localhost:8080/"
        },
        "id": "d1xQQCQXfSey",
        "outputId": "ac0a7565-52ed-4158-8f1a-5832957fa9e0"
      },
      "execution_count": null,
      "outputs": [
        {
          "output_type": "stream",
          "name": "stdout",
          "text": [
            "Downloading iris.zip to /content\n",
            "\r  0% 0.00/3.60k [00:00<?, ?B/s]\n",
            "\r100% 3.60k/3.60k [00:00<00:00, 6.24MB/s]\n"
          ]
        }
      ]
    },
    {
      "cell_type": "code",
      "source": [
        "#Latihan(2)\n",
        "#Import Library Pandas\n",
        "import pandas as pd\n",
        "#Import Library Numpy\n",
        "import numpy as np"
      ],
      "metadata": {
        "id": "FWkDI8VIfW22"
      },
      "execution_count": null,
      "outputs": []
    },
    {
      "cell_type": "code",
      "source": [
        "#latihan(3)\n",
        "#Panggil file (load file bernama Iris.csv) dan simpan dalam dataframe Lalu tampilkan 5 baris awal dataset dengan function head()\n",
        "df = pd.read_csv(\"/content/Iris.csv\")\n",
        "\n",
        "df.head(5)"
      ],
      "metadata": {
        "colab": {
          "base_uri": "https://localhost:8080/",
          "height": 206
        },
        "id": "IQzGT0K-fc_z",
        "outputId": "202318d2-debe-4534-d4e6-09c81fdf59c1"
      },
      "execution_count": null,
      "outputs": [
        {
          "output_type": "execute_result",
          "data": {
            "text/plain": [
              "   Id  SepalLengthCm  SepalWidthCm  PetalLengthCm  PetalWidthCm      Species\n",
              "0   1            5.1           3.5            1.4           0.2  Iris-setosa\n",
              "1   2            4.9           3.0            1.4           0.2  Iris-setosa\n",
              "2   3            4.7           3.2            1.3           0.2  Iris-setosa\n",
              "3   4            4.6           3.1            1.5           0.2  Iris-setosa\n",
              "4   5            5.0           3.6            1.4           0.2  Iris-setosa"
            ],
            "text/html": [
              "\n",
              "  <div id=\"df-d8564495-58d2-48c4-8d17-462734a0aad0\" class=\"colab-df-container\">\n",
              "    <div>\n",
              "<style scoped>\n",
              "    .dataframe tbody tr th:only-of-type {\n",
              "        vertical-align: middle;\n",
              "    }\n",
              "\n",
              "    .dataframe tbody tr th {\n",
              "        vertical-align: top;\n",
              "    }\n",
              "\n",
              "    .dataframe thead th {\n",
              "        text-align: right;\n",
              "    }\n",
              "</style>\n",
              "<table border=\"1\" class=\"dataframe\">\n",
              "  <thead>\n",
              "    <tr style=\"text-align: right;\">\n",
              "      <th></th>\n",
              "      <th>Id</th>\n",
              "      <th>SepalLengthCm</th>\n",
              "      <th>SepalWidthCm</th>\n",
              "      <th>PetalLengthCm</th>\n",
              "      <th>PetalWidthCm</th>\n",
              "      <th>Species</th>\n",
              "    </tr>\n",
              "  </thead>\n",
              "  <tbody>\n",
              "    <tr>\n",
              "      <th>0</th>\n",
              "      <td>1</td>\n",
              "      <td>5.1</td>\n",
              "      <td>3.5</td>\n",
              "      <td>1.4</td>\n",
              "      <td>0.2</td>\n",
              "      <td>Iris-setosa</td>\n",
              "    </tr>\n",
              "    <tr>\n",
              "      <th>1</th>\n",
              "      <td>2</td>\n",
              "      <td>4.9</td>\n",
              "      <td>3.0</td>\n",
              "      <td>1.4</td>\n",
              "      <td>0.2</td>\n",
              "      <td>Iris-setosa</td>\n",
              "    </tr>\n",
              "    <tr>\n",
              "      <th>2</th>\n",
              "      <td>3</td>\n",
              "      <td>4.7</td>\n",
              "      <td>3.2</td>\n",
              "      <td>1.3</td>\n",
              "      <td>0.2</td>\n",
              "      <td>Iris-setosa</td>\n",
              "    </tr>\n",
              "    <tr>\n",
              "      <th>3</th>\n",
              "      <td>4</td>\n",
              "      <td>4.6</td>\n",
              "      <td>3.1</td>\n",
              "      <td>1.5</td>\n",
              "      <td>0.2</td>\n",
              "      <td>Iris-setosa</td>\n",
              "    </tr>\n",
              "    <tr>\n",
              "      <th>4</th>\n",
              "      <td>5</td>\n",
              "      <td>5.0</td>\n",
              "      <td>3.6</td>\n",
              "      <td>1.4</td>\n",
              "      <td>0.2</td>\n",
              "      <td>Iris-setosa</td>\n",
              "    </tr>\n",
              "  </tbody>\n",
              "</table>\n",
              "</div>\n",
              "    <div class=\"colab-df-buttons\">\n",
              "\n",
              "  <div class=\"colab-df-container\">\n",
              "    <button class=\"colab-df-convert\" onclick=\"convertToInteractive('df-d8564495-58d2-48c4-8d17-462734a0aad0')\"\n",
              "            title=\"Convert this dataframe to an interactive table.\"\n",
              "            style=\"display:none;\">\n",
              "\n",
              "  <svg xmlns=\"http://www.w3.org/2000/svg\" height=\"24px\" viewBox=\"0 -960 960 960\">\n",
              "    <path d=\"M120-120v-720h720v720H120Zm60-500h600v-160H180v160Zm220 220h160v-160H400v160Zm0 220h160v-160H400v160ZM180-400h160v-160H180v160Zm440 0h160v-160H620v160ZM180-180h160v-160H180v160Zm440 0h160v-160H620v160Z\"/>\n",
              "  </svg>\n",
              "    </button>\n",
              "\n",
              "  <style>\n",
              "    .colab-df-container {\n",
              "      display:flex;\n",
              "      gap: 12px;\n",
              "    }\n",
              "\n",
              "    .colab-df-convert {\n",
              "      background-color: #E8F0FE;\n",
              "      border: none;\n",
              "      border-radius: 50%;\n",
              "      cursor: pointer;\n",
              "      display: none;\n",
              "      fill: #1967D2;\n",
              "      height: 32px;\n",
              "      padding: 0 0 0 0;\n",
              "      width: 32px;\n",
              "    }\n",
              "\n",
              "    .colab-df-convert:hover {\n",
              "      background-color: #E2EBFA;\n",
              "      box-shadow: 0px 1px 2px rgba(60, 64, 67, 0.3), 0px 1px 3px 1px rgba(60, 64, 67, 0.15);\n",
              "      fill: #174EA6;\n",
              "    }\n",
              "\n",
              "    .colab-df-buttons div {\n",
              "      margin-bottom: 4px;\n",
              "    }\n",
              "\n",
              "    [theme=dark] .colab-df-convert {\n",
              "      background-color: #3B4455;\n",
              "      fill: #D2E3FC;\n",
              "    }\n",
              "\n",
              "    [theme=dark] .colab-df-convert:hover {\n",
              "      background-color: #434B5C;\n",
              "      box-shadow: 0px 1px 3px 1px rgba(0, 0, 0, 0.15);\n",
              "      filter: drop-shadow(0px 1px 2px rgba(0, 0, 0, 0.3));\n",
              "      fill: #FFFFFF;\n",
              "    }\n",
              "  </style>\n",
              "\n",
              "    <script>\n",
              "      const buttonEl =\n",
              "        document.querySelector('#df-d8564495-58d2-48c4-8d17-462734a0aad0 button.colab-df-convert');\n",
              "      buttonEl.style.display =\n",
              "        google.colab.kernel.accessAllowed ? 'block' : 'none';\n",
              "\n",
              "      async function convertToInteractive(key) {\n",
              "        const element = document.querySelector('#df-d8564495-58d2-48c4-8d17-462734a0aad0');\n",
              "        const dataTable =\n",
              "          await google.colab.kernel.invokeFunction('convertToInteractive',\n",
              "                                                    [key], {});\n",
              "        if (!dataTable) return;\n",
              "\n",
              "        const docLinkHtml = 'Like what you see? Visit the ' +\n",
              "          '<a target=\"_blank\" href=https://colab.research.google.com/notebooks/data_table.ipynb>data table notebook</a>'\n",
              "          + ' to learn more about interactive tables.';\n",
              "        element.innerHTML = '';\n",
              "        dataTable['output_type'] = 'display_data';\n",
              "        await google.colab.output.renderOutput(dataTable, element);\n",
              "        const docLink = document.createElement('div');\n",
              "        docLink.innerHTML = docLinkHtml;\n",
              "        element.appendChild(docLink);\n",
              "      }\n",
              "    </script>\n",
              "  </div>\n",
              "\n",
              "\n",
              "<div id=\"df-0b151074-59e5-49fd-94ce-a4b8545f0dfc\">\n",
              "  <button class=\"colab-df-quickchart\" onclick=\"quickchart('df-0b151074-59e5-49fd-94ce-a4b8545f0dfc')\"\n",
              "            title=\"Suggest charts.\"\n",
              "            style=\"display:none;\">\n",
              "\n",
              "<svg xmlns=\"http://www.w3.org/2000/svg\" height=\"24px\"viewBox=\"0 0 24 24\"\n",
              "     width=\"24px\">\n",
              "    <g>\n",
              "        <path d=\"M19 3H5c-1.1 0-2 .9-2 2v14c0 1.1.9 2 2 2h14c1.1 0 2-.9 2-2V5c0-1.1-.9-2-2-2zM9 17H7v-7h2v7zm4 0h-2V7h2v10zm4 0h-2v-4h2v4z\"/>\n",
              "    </g>\n",
              "</svg>\n",
              "  </button>\n",
              "\n",
              "<style>\n",
              "  .colab-df-quickchart {\n",
              "      --bg-color: #E8F0FE;\n",
              "      --fill-color: #1967D2;\n",
              "      --hover-bg-color: #E2EBFA;\n",
              "      --hover-fill-color: #174EA6;\n",
              "      --disabled-fill-color: #AAA;\n",
              "      --disabled-bg-color: #DDD;\n",
              "  }\n",
              "\n",
              "  [theme=dark] .colab-df-quickchart {\n",
              "      --bg-color: #3B4455;\n",
              "      --fill-color: #D2E3FC;\n",
              "      --hover-bg-color: #434B5C;\n",
              "      --hover-fill-color: #FFFFFF;\n",
              "      --disabled-bg-color: #3B4455;\n",
              "      --disabled-fill-color: #666;\n",
              "  }\n",
              "\n",
              "  .colab-df-quickchart {\n",
              "    background-color: var(--bg-color);\n",
              "    border: none;\n",
              "    border-radius: 50%;\n",
              "    cursor: pointer;\n",
              "    display: none;\n",
              "    fill: var(--fill-color);\n",
              "    height: 32px;\n",
              "    padding: 0;\n",
              "    width: 32px;\n",
              "  }\n",
              "\n",
              "  .colab-df-quickchart:hover {\n",
              "    background-color: var(--hover-bg-color);\n",
              "    box-shadow: 0 1px 2px rgba(60, 64, 67, 0.3), 0 1px 3px 1px rgba(60, 64, 67, 0.15);\n",
              "    fill: var(--button-hover-fill-color);\n",
              "  }\n",
              "\n",
              "  .colab-df-quickchart-complete:disabled,\n",
              "  .colab-df-quickchart-complete:disabled:hover {\n",
              "    background-color: var(--disabled-bg-color);\n",
              "    fill: var(--disabled-fill-color);\n",
              "    box-shadow: none;\n",
              "  }\n",
              "\n",
              "  .colab-df-spinner {\n",
              "    border: 2px solid var(--fill-color);\n",
              "    border-color: transparent;\n",
              "    border-bottom-color: var(--fill-color);\n",
              "    animation:\n",
              "      spin 1s steps(1) infinite;\n",
              "  }\n",
              "\n",
              "  @keyframes spin {\n",
              "    0% {\n",
              "      border-color: transparent;\n",
              "      border-bottom-color: var(--fill-color);\n",
              "      border-left-color: var(--fill-color);\n",
              "    }\n",
              "    20% {\n",
              "      border-color: transparent;\n",
              "      border-left-color: var(--fill-color);\n",
              "      border-top-color: var(--fill-color);\n",
              "    }\n",
              "    30% {\n",
              "      border-color: transparent;\n",
              "      border-left-color: var(--fill-color);\n",
              "      border-top-color: var(--fill-color);\n",
              "      border-right-color: var(--fill-color);\n",
              "    }\n",
              "    40% {\n",
              "      border-color: transparent;\n",
              "      border-right-color: var(--fill-color);\n",
              "      border-top-color: var(--fill-color);\n",
              "    }\n",
              "    60% {\n",
              "      border-color: transparent;\n",
              "      border-right-color: var(--fill-color);\n",
              "    }\n",
              "    80% {\n",
              "      border-color: transparent;\n",
              "      border-right-color: var(--fill-color);\n",
              "      border-bottom-color: var(--fill-color);\n",
              "    }\n",
              "    90% {\n",
              "      border-color: transparent;\n",
              "      border-bottom-color: var(--fill-color);\n",
              "    }\n",
              "  }\n",
              "</style>\n",
              "\n",
              "  <script>\n",
              "    async function quickchart(key) {\n",
              "      const quickchartButtonEl =\n",
              "        document.querySelector('#' + key + ' button');\n",
              "      quickchartButtonEl.disabled = true;  // To prevent multiple clicks.\n",
              "      quickchartButtonEl.classList.add('colab-df-spinner');\n",
              "      try {\n",
              "        const charts = await google.colab.kernel.invokeFunction(\n",
              "            'suggestCharts', [key], {});\n",
              "      } catch (error) {\n",
              "        console.error('Error during call to suggestCharts:', error);\n",
              "      }\n",
              "      quickchartButtonEl.classList.remove('colab-df-spinner');\n",
              "      quickchartButtonEl.classList.add('colab-df-quickchart-complete');\n",
              "    }\n",
              "    (() => {\n",
              "      let quickchartButtonEl =\n",
              "        document.querySelector('#df-0b151074-59e5-49fd-94ce-a4b8545f0dfc button');\n",
              "      quickchartButtonEl.style.display =\n",
              "        google.colab.kernel.accessAllowed ? 'block' : 'none';\n",
              "    })();\n",
              "  </script>\n",
              "</div>\n",
              "    </div>\n",
              "  </div>\n"
            ]
          },
          "metadata": {},
          "execution_count": 9
        }
      ]
    },
    {
      "cell_type": "code",
      "source": [
        "#latihan(4)\n",
        "#Tampilkan tipe data dari kolom yang ada pada dataset\n",
        "print(df.dtypes)"
      ],
      "metadata": {
        "colab": {
          "base_uri": "https://localhost:8080/"
        },
        "id": "FZe9INUbffmk",
        "outputId": "f26ef21d-ac28-4b16-8d2c-dd4430d518e9"
      },
      "execution_count": null,
      "outputs": [
        {
          "output_type": "stream",
          "name": "stdout",
          "text": [
            "Id                 int64\n",
            "SepalLengthCm    float64\n",
            "SepalWidthCm     float64\n",
            "PetalLengthCm    float64\n",
            "PetalWidthCm     float64\n",
            "Species           object\n",
            "dtype: object\n"
          ]
        }
      ]
    },
    {
      "cell_type": "code",
      "source": [
        "#Latihan (5)\n",
        "#Tipe Data dari kolom yang ada di dataset\n",
        "\n",
        "#Kolom  \"Id\" memiliki tipe data =  <int64>\n",
        "#Kolom \"SepalLengthCm\" memiliki tipe data =  <float64>\n",
        "#Kolom \"Species\" memiliki tipe data =  <object>"
      ],
      "metadata": {
        "id": "Gb8c4XfXfiah"
      },
      "execution_count": null,
      "outputs": []
    },
    {
      "cell_type": "code",
      "source": [
        "#Latihan (6)\n",
        "#Hitung ukuran (jumlah baris dan kolom) dari dataset\n",
        "total_baris, total_kolom = df.shape\n",
        "\n",
        "print(f\"total baris: {total_baris}\")\n",
        "print(f\"total kolom: {total_kolom}\")"
      ],
      "metadata": {
        "colab": {
          "base_uri": "https://localhost:8080/"
        },
        "id": "cY2oozESfm7G",
        "outputId": "54d39467-f94b-4ac8-d348-fda9cb751187"
      },
      "execution_count": null,
      "outputs": [
        {
          "output_type": "stream",
          "name": "stdout",
          "text": [
            "total baris: 150\n",
            "total kolom: 6\n"
          ]
        }
      ]
    },
    {
      "cell_type": "code",
      "source": [
        "#Latihan (7)\n",
        "\n",
        "#total Baris pada dataset adalah =  <150>\n",
        "\n",
        "#total kolom pada dataset adalah =  <6>"
      ],
      "metadata": {
        "id": "SLLglEWofpRe"
      },
      "execution_count": null,
      "outputs": []
    },
    {
      "cell_type": "code",
      "source": [
        "#Latihan (8)\n",
        "#Tampilkan data untuk kolom \"Id\" dan kolom \"Species\" dalam bentuk dataframe\n",
        "kolom = df[[\"Id\", \"Species\"]]\n",
        "print(kolom)"
      ],
      "metadata": {
        "colab": {
          "base_uri": "https://localhost:8080/"
        },
        "id": "vdlcmWryfsNP",
        "outputId": "fcdab8e6-fa5e-45e0-e849-b87f85568ba5"
      },
      "execution_count": null,
      "outputs": [
        {
          "output_type": "stream",
          "name": "stdout",
          "text": [
            "      Id         Species\n",
            "0      1     Iris-setosa\n",
            "1      2     Iris-setosa\n",
            "2      3     Iris-setosa\n",
            "3      4     Iris-setosa\n",
            "4      5     Iris-setosa\n",
            "..   ...             ...\n",
            "145  146  Iris-virginica\n",
            "146  147  Iris-virginica\n",
            "147  148  Iris-virginica\n",
            "148  149  Iris-virginica\n",
            "149  150  Iris-virginica\n",
            "\n",
            "[150 rows x 2 columns]\n"
          ]
        }
      ]
    },
    {
      "cell_type": "code",
      "source": [
        "#Latihan (9)\n",
        "#Tampilkan data dengan dataframe, dan data yang ditampilkan adalah baris dengan indeks 0 (nol) sampai dengan indeks 9 (sembilan)\n",
        "baris = df.iloc[0:10]\n",
        "print(baris)\n"
      ],
      "metadata": {
        "colab": {
          "base_uri": "https://localhost:8080/"
        },
        "id": "VFnYsnnxfuY3",
        "outputId": "e624089b-80df-4021-9036-954e71832ef9"
      },
      "execution_count": null,
      "outputs": [
        {
          "output_type": "stream",
          "name": "stdout",
          "text": [
            "   Id  SepalLengthCm  SepalWidthCm  PetalLengthCm  PetalWidthCm      Species\n",
            "0   1            5.1           3.5            1.4           0.2  Iris-setosa\n",
            "1   2            4.9           3.0            1.4           0.2  Iris-setosa\n",
            "2   3            4.7           3.2            1.3           0.2  Iris-setosa\n",
            "3   4            4.6           3.1            1.5           0.2  Iris-setosa\n",
            "4   5            5.0           3.6            1.4           0.2  Iris-setosa\n",
            "5   6            5.4           3.9            1.7           0.4  Iris-setosa\n",
            "6   7            4.6           3.4            1.4           0.3  Iris-setosa\n",
            "7   8            5.0           3.4            1.5           0.2  Iris-setosa\n",
            "8   9            4.4           2.9            1.4           0.2  Iris-setosa\n",
            "9  10            4.9           3.1            1.5           0.1  Iris-setosa\n"
          ]
        }
      ]
    },
    {
      "cell_type": "code",
      "source": [
        "#Latihan (10)\n",
        "#Tampilkan data hanya kolom \"Id\" dan kolom \"Species\", pada baris dengan indeks 0 (nol) sampai dengan indeks 9 (sembilan)\n",
        "data = df.loc[0:9, [\"Id\", \"Species\"]]\n",
        "print(data)"
      ],
      "metadata": {
        "colab": {
          "base_uri": "https://localhost:8080/"
        },
        "id": "gUe6jnq0fxnx",
        "outputId": "43f54fdb-552b-41a7-f5a7-f6bd519067ff"
      },
      "execution_count": null,
      "outputs": [
        {
          "output_type": "stream",
          "name": "stdout",
          "text": [
            "   Id      Species\n",
            "0   1  Iris-setosa\n",
            "1   2  Iris-setosa\n",
            "2   3  Iris-setosa\n",
            "3   4  Iris-setosa\n",
            "4   5  Iris-setosa\n",
            "5   6  Iris-setosa\n",
            "6   7  Iris-setosa\n",
            "7   8  Iris-setosa\n",
            "8   9  Iris-setosa\n",
            "9  10  Iris-setosa\n"
          ]
        }
      ]
    },
    {
      "cell_type": "code",
      "source": [
        "#Latihan (11)\n",
        "#Tampilkan data pada 8 (delapan) baris pertama dari dataset, dengan dataframe\n",
        "data_8_baris_pertamaa = df.head(8)\n",
        "print(data_8_baris_pertamaa)"
      ],
      "metadata": {
        "colab": {
          "base_uri": "https://localhost:8080/"
        },
        "id": "yboPLzhvf0gy",
        "outputId": "b0c09752-5c18-4579-aff5-bbe5e6c748d4"
      },
      "execution_count": null,
      "outputs": [
        {
          "output_type": "stream",
          "name": "stdout",
          "text": [
            "   Id  SepalLengthCm  SepalWidthCm  PetalLengthCm  PetalWidthCm      Species\n",
            "0   1            5.1           3.5            1.4           0.2  Iris-setosa\n",
            "1   2            4.9           3.0            1.4           0.2  Iris-setosa\n",
            "2   3            4.7           3.2            1.3           0.2  Iris-setosa\n",
            "3   4            4.6           3.1            1.5           0.2  Iris-setosa\n",
            "4   5            5.0           3.6            1.4           0.2  Iris-setosa\n",
            "5   6            5.4           3.9            1.7           0.4  Iris-setosa\n",
            "6   7            4.6           3.4            1.4           0.3  Iris-setosa\n",
            "7   8            5.0           3.4            1.5           0.2  Iris-setosa\n"
          ]
        }
      ]
    },
    {
      "cell_type": "code",
      "source": [
        "#Latihan (12)\n",
        "#Tampilkan data pada 3 (tiga) baris terakhir dari dataset, dengan dataframe\n",
        "last_3_row = df.tail(3)\n",
        "print(last_3_row)"
      ],
      "metadata": {
        "colab": {
          "base_uri": "https://localhost:8080/"
        },
        "id": "VmNyytt-f3-l",
        "outputId": "a0e9ec6e-660e-45d6-f1f6-ab2193aaabba"
      },
      "execution_count": null,
      "outputs": [
        {
          "output_type": "stream",
          "name": "stdout",
          "text": [
            "      Id  SepalLengthCm  SepalWidthCm  PetalLengthCm  PetalWidthCm  \\\n",
            "147  148            6.5           3.0            5.2           2.0   \n",
            "148  149            6.2           3.4            5.4           2.3   \n",
            "149  150            5.9           3.0            5.1           1.8   \n",
            "\n",
            "            Species  \n",
            "147  Iris-virginica  \n",
            "148  Iris-virginica  \n",
            "149  Iris-virginica  \n"
          ]
        }
      ]
    },
    {
      "cell_type": "code",
      "source": [
        "#Latihan (13)\n",
        "#Hitung korelasi dataset\n",
        "hitung = df.corr(numeric_only=True)\n",
        "print(hitung)"
      ],
      "metadata": {
        "colab": {
          "base_uri": "https://localhost:8080/"
        },
        "id": "4cEorAN9f6uR",
        "outputId": "f64a9408-4108-4ba0-ef1f-a4a3a81b1c48"
      },
      "execution_count": null,
      "outputs": [
        {
          "output_type": "stream",
          "name": "stdout",
          "text": [
            "                     Id  SepalLengthCm  SepalWidthCm  PetalLengthCm  \\\n",
            "Id             1.000000       0.716676     -0.397729       0.882747   \n",
            "SepalLengthCm  0.716676       1.000000     -0.109369       0.871754   \n",
            "SepalWidthCm  -0.397729      -0.109369      1.000000      -0.420516   \n",
            "PetalLengthCm  0.882747       0.871754     -0.420516       1.000000   \n",
            "PetalWidthCm   0.899759       0.817954     -0.356544       0.962757   \n",
            "\n",
            "               PetalWidthCm  \n",
            "Id                 0.899759  \n",
            "SepalLengthCm      0.817954  \n",
            "SepalWidthCm      -0.356544  \n",
            "PetalLengthCm      0.962757  \n",
            "PetalWidthCm       1.000000  \n"
          ]
        }
      ]
    },
    {
      "cell_type": "code",
      "source": [
        "#latihan (14)\n",
        "#Simpulan Sementara Hasil Korelasi di latihan (13)\n",
        "\n",
        "#Kesimpulannya, Secara keseluruhan, analisis korelasi mengindikasikan adanya keterkaitan yang positif yang kuat antara \"PetalLengthCm\" dan \"PetalWidthCm\", serta keterkaitan yang signifikan antara \"SepalLengthCm\" dan \"PetalLengthCm\". Di sisi lain, \"SepalWidthCm\" menunjukkan keterkaitan negatif yang lemah dengan beberapa variabel lainnya. Namun, perlu diingat bahwa korelasi hanya mengukur hubungan statistik dan tidak mengimplikasikan sebab-akibat. Oleh karena itu, temuan ini memberikan wawasan tentang bagaimana variabel dalam dataset saling terkait, tetapi tidak dapat menjelaskan penyebab di balik hubungan tersebut."
      ],
      "metadata": {
        "id": "xBSUS1j3f9EO"
      },
      "execution_count": null,
      "outputs": []
    },
    {
      "cell_type": "code",
      "source": [
        "#Latihan (15)\n",
        "#Hitung korelasi dataset untuk kolom PetalLengthCm, PetalWidthCm\n",
        "korelasi = df['PetalLengthCm'].corr(df['PetalWidthCm'])\n",
        "print(f\"Korelasinya PetalLengthCm dan PetalWidthCm: {korelasi}\")"
      ],
      "metadata": {
        "colab": {
          "base_uri": "https://localhost:8080/"
        },
        "id": "7DSMlQZtf_s4",
        "outputId": "c25d8d17-0da5-4f6d-e3d3-c5ebf0fb196c"
      },
      "execution_count": null,
      "outputs": [
        {
          "output_type": "stream",
          "name": "stdout",
          "text": [
            "Korelasinya PetalLengthCm dan PetalWidthCm: 0.9627570970509663\n"
          ]
        }
      ]
    },
    {
      "cell_type": "code",
      "source": [
        "#Latihan (16)\n",
        "# Penggunaan Metode describe untuk komputasi statistik\n",
        "a = df.describe()\n",
        "print(a)"
      ],
      "metadata": {
        "colab": {
          "base_uri": "https://localhost:8080/"
        },
        "id": "CvnbjNOfgCGN",
        "outputId": "a6215458-3ebb-461a-e7e6-09dfbcaa7705"
      },
      "execution_count": null,
      "outputs": [
        {
          "output_type": "stream",
          "name": "stdout",
          "text": [
            "               Id  SepalLengthCm  SepalWidthCm  PetalLengthCm  PetalWidthCm\n",
            "count  150.000000     150.000000    150.000000     150.000000    150.000000\n",
            "mean    75.500000       5.843333      3.054000       3.758667      1.198667\n",
            "std     43.445368       0.828066      0.433594       1.764420      0.763161\n",
            "min      1.000000       4.300000      2.000000       1.000000      0.100000\n",
            "25%     38.250000       5.100000      2.800000       1.600000      0.300000\n",
            "50%     75.500000       5.800000      3.000000       4.350000      1.300000\n",
            "75%    112.750000       6.400000      3.300000       5.100000      1.800000\n",
            "max    150.000000       7.900000      4.400000       6.900000      2.500000\n"
          ]
        }
      ]
    },
    {
      "cell_type": "code",
      "source": [
        "#Latihan (17)\n",
        "#Gunakan method describe pada dataset yang sudah di load untuk data bertype objek\n",
        "deskripsiObjek = df.describe(include='object')\n",
        "print(deskripsiObjek)"
      ],
      "metadata": {
        "colab": {
          "base_uri": "https://localhost:8080/"
        },
        "id": "XJc7APEKgEq4",
        "outputId": "1b650cd3-aa97-45db-c574-fa224133f6a0"
      },
      "execution_count": null,
      "outputs": [
        {
          "output_type": "stream",
          "name": "stdout",
          "text": [
            "            Species\n",
            "count           150\n",
            "unique            3\n",
            "top     Iris-setosa\n",
            "freq             50\n"
          ]
        }
      ]
    },
    {
      "cell_type": "code",
      "source": [
        "#Latihan (18)\n",
        "#Gunakan method describe pada dataset yang sudah di load untuk semua type data\n",
        "deskripsi = df.describe(include='all')\n",
        "print(deskripsi)"
      ],
      "metadata": {
        "colab": {
          "base_uri": "https://localhost:8080/"
        },
        "id": "7nVgnBMtgHar",
        "outputId": "1abc87b3-3c79-49fb-b94c-542a89d61c67"
      },
      "execution_count": null,
      "outputs": [
        {
          "output_type": "stream",
          "name": "stdout",
          "text": [
            "                Id  SepalLengthCm  SepalWidthCm  PetalLengthCm  PetalWidthCm  \\\n",
            "count   150.000000     150.000000    150.000000     150.000000    150.000000   \n",
            "unique         NaN            NaN           NaN            NaN           NaN   \n",
            "top            NaN            NaN           NaN            NaN           NaN   \n",
            "freq           NaN            NaN           NaN            NaN           NaN   \n",
            "mean     75.500000       5.843333      3.054000       3.758667      1.198667   \n",
            "std      43.445368       0.828066      0.433594       1.764420      0.763161   \n",
            "min       1.000000       4.300000      2.000000       1.000000      0.100000   \n",
            "25%      38.250000       5.100000      2.800000       1.600000      0.300000   \n",
            "50%      75.500000       5.800000      3.000000       4.350000      1.300000   \n",
            "75%     112.750000       6.400000      3.300000       5.100000      1.800000   \n",
            "max     150.000000       7.900000      4.400000       6.900000      2.500000   \n",
            "\n",
            "            Species  \n",
            "count           150  \n",
            "unique            3  \n",
            "top     Iris-setosa  \n",
            "freq             50  \n",
            "mean            NaN  \n",
            "std             NaN  \n",
            "min             NaN  \n",
            "25%             NaN  \n",
            "50%             NaN  \n",
            "75%             NaN  \n",
            "max             NaN  \n"
          ]
        }
      ]
    },
    {
      "cell_type": "code",
      "source": [
        "#Latihan (19)\n",
        "#Hitung nilai Mean dari dataset\n",
        "mean = df.mean(numeric_only=True)\n",
        "print(mean)"
      ],
      "metadata": {
        "colab": {
          "base_uri": "https://localhost:8080/"
        },
        "id": "XhU0TcA_gKDr",
        "outputId": "4ddf9ab1-6bef-47fb-ae07-0c77bc4a0897"
      },
      "execution_count": null,
      "outputs": [
        {
          "output_type": "stream",
          "name": "stdout",
          "text": [
            "Id               75.500000\n",
            "SepalLengthCm     5.843333\n",
            "SepalWidthCm      3.054000\n",
            "PetalLengthCm     3.758667\n",
            "PetalWidthCm      1.198667\n",
            "dtype: float64\n"
          ]
        }
      ]
    },
    {
      "cell_type": "code",
      "source": [
        "#Latihan (20)\n",
        "#Hitung nilai Mean untuk kolom PetalLengthCm\n",
        "meann = df['PetalLengthCm'].mean()\n",
        "print(\"Mean untuk kolom PetalLengthCm:\", meann)"
      ],
      "metadata": {
        "colab": {
          "base_uri": "https://localhost:8080/"
        },
        "id": "Y3l_8fV3gNA4",
        "outputId": "00f2024d-0f2c-419f-f01e-0a1b3a164f18"
      },
      "execution_count": null,
      "outputs": [
        {
          "output_type": "stream",
          "name": "stdout",
          "text": [
            "Mean untuk kolom PetalLengthCm: 3.758666666666666\n"
          ]
        }
      ]
    },
    {
      "cell_type": "code",
      "source": [
        "#Latihan (21)\n",
        "#Cari nilai minimal untuk kolom SepalWidthCm\n",
        "min = df['SepalWidthCm'].min()\n",
        "print(\"Nilai minimal untuk kolom SepalWidthCm:\", min)"
      ],
      "metadata": {
        "colab": {
          "base_uri": "https://localhost:8080/"
        },
        "id": "RYZfOOGjgQn_",
        "outputId": "a34984f5-879f-4c8c-eeaa-80d69399e9e8"
      },
      "execution_count": null,
      "outputs": [
        {
          "output_type": "stream",
          "name": "stdout",
          "text": [
            "Nilai minimal untuk kolom SepalWidthCm: 2.0\n"
          ]
        }
      ]
    },
    {
      "cell_type": "code",
      "source": [
        "#Latihan (22)\n",
        "#Hitung nilai mean dari dataset untuk SepalLengthCm per Species dengan metode groupby\n",
        "meannn = df.groupby('Species')['SepalLengthCm'].mean()\n",
        "print(meannn)"
      ],
      "metadata": {
        "colab": {
          "base_uri": "https://localhost:8080/"
        },
        "id": "eX9qeQPrgUYd",
        "outputId": "72888bb9-ca66-4465-d1ee-8fe9e07538a7"
      },
      "execution_count": null,
      "outputs": [
        {
          "output_type": "stream",
          "name": "stdout",
          "text": [
            "Species\n",
            "Iris-setosa        5.006\n",
            "Iris-versicolor    5.936\n",
            "Iris-virginica     6.588\n",
            "Name: SepalLengthCm, dtype: float64\n"
          ]
        }
      ]
    },
    {
      "cell_type": "code",
      "source": [
        "#Latihan (23)\n",
        "#Hitung frekuensi pada kolom 'Species' dengan menggunakan metode value_counts()\n",
        "frekuensi = df['Species'].value_counts()\n",
        "print(frekuensi)"
      ],
      "metadata": {
        "colab": {
          "base_uri": "https://localhost:8080/"
        },
        "id": "ZTGUM9jFgW3H",
        "outputId": "e0707ec6-8044-418f-b9a1-c34dfbb21283"
      },
      "execution_count": null,
      "outputs": [
        {
          "output_type": "stream",
          "name": "stdout",
          "text": [
            "Iris-setosa        50\n",
            "Iris-versicolor    50\n",
            "Iris-virginica     50\n",
            "Name: Species, dtype: int64\n"
          ]
        }
      ]
    },
    {
      "cell_type": "code",
      "source": [
        "#Latihan (24)\n",
        "#Perhitungan frekuensi pada kolom 'Species' dengan menggunakan metode value_counts() dalam bentuk dataframe\n",
        "frekuensi_species_df = pd.DataFrame(df['Species'].value_counts()).reset_index()\n",
        "frekuensi_species_df.columns = ['Species', 'Frekuensi']\n",
        "print(frekuensi_species_df)"
      ],
      "metadata": {
        "colab": {
          "base_uri": "https://localhost:8080/"
        },
        "id": "cCEyRWgGgZJc",
        "outputId": "eaec9cd5-24ab-4052-e60b-afc7ab690c6c"
      },
      "execution_count": null,
      "outputs": [
        {
          "output_type": "stream",
          "name": "stdout",
          "text": [
            "           Species  Frekuensi\n",
            "0      Iris-setosa         50\n",
            "1  Iris-versicolor         50\n",
            "2   Iris-virginica         50\n"
          ]
        }
      ]
    },
    {
      "cell_type": "code",
      "source": [
        "#Latihan (25)\n",
        "# Hitung frekuensi pada kolom 'PetalLenghCm' dengan menggunakan metode value_counts()\n",
        "frekuensi_petal_length_df = pd.DataFrame(df['PetalLengthCm'].value_counts()).reset_index()\n",
        "frekuensi_petal_length_df.columns = ['PetalLengthCm', 'Frekuensi']\n",
        "print(frekuensi_petal_length_df)"
      ],
      "metadata": {
        "colab": {
          "base_uri": "https://localhost:8080/"
        },
        "id": "4EqWBF7xgbme",
        "outputId": "7be353fb-4114-4fcc-e296-ae5c28810b13"
      },
      "execution_count": null,
      "outputs": [
        {
          "output_type": "stream",
          "name": "stdout",
          "text": [
            "    PetalLengthCm  Frekuensi\n",
            "0             1.5         14\n",
            "1             1.4         12\n",
            "2             5.1          8\n",
            "3             4.5          8\n",
            "4             1.6          7\n",
            "5             1.3          7\n",
            "6             5.6          6\n",
            "7             4.7          5\n",
            "8             4.9          5\n",
            "9             4.0          5\n",
            "10            4.2          4\n",
            "11            5.0          4\n",
            "12            4.4          4\n",
            "13            4.8          4\n",
            "14            1.7          4\n",
            "15            3.9          3\n",
            "16            4.6          3\n",
            "17            5.7          3\n",
            "18            4.1          3\n",
            "19            5.5          3\n",
            "20            6.1          3\n",
            "21            5.8          3\n",
            "22            3.3          2\n",
            "23            5.4          2\n",
            "24            6.7          2\n",
            "25            5.3          2\n",
            "26            5.9          2\n",
            "27            6.0          2\n",
            "28            1.2          2\n",
            "29            4.3          2\n",
            "30            1.9          2\n",
            "31            3.5          2\n",
            "32            5.2          2\n",
            "33            3.0          1\n",
            "34            1.1          1\n",
            "35            3.7          1\n",
            "36            3.8          1\n",
            "37            6.6          1\n",
            "38            6.3          1\n",
            "39            1.0          1\n",
            "40            6.9          1\n",
            "41            3.6          1\n",
            "42            6.4          1\n"
          ]
        }
      ]
    },
    {
      "cell_type": "code",
      "source": [],
      "metadata": {
        "id": "cxLuFjndgeRR"
      },
      "execution_count": null,
      "outputs": []
    }
  ]
}